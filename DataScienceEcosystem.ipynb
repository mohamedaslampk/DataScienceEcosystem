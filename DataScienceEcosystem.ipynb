{
 "cells": [
  {
   "cell_type": "markdown",
   "id": "8d5a1317-ff56-40a5-bedf-79e9d191251a",
   "metadata": {},
   "source": [
    "# Data Science Tools and Ecosystem"
   ]
  },
  {
   "cell_type": "markdown",
   "id": "157fe7e3-fe9d-4d7e-b036-be31df69591a",
   "metadata": {},
   "source": [
    "### In this notebook, Data Science Tools and Ecosystem are summarized."
   ]
  },
  {
   "cell_type": "markdown",
   "id": "fd1bea2b-f3b5-450e-9734-ce94817bc74b",
   "metadata": {},
   "source": [
    "### Some of the popular languages that Data Scientists use are:\n",
    "1. Python\n",
    "2. R\n",
    "3. Julia\n",
    "4. Ruby"
   ]
  },
  {
   "cell_type": "markdown",
   "id": "3be57214-07ec-4f7e-b2da-d80ab808409c",
   "metadata": {},
   "source": [
    "### Some of the commonly used libraries used by Data Scientists include:\n",
    "1. Pandas\n",
    "2. NumPy\n",
    "3. Scikit\n",
    "4. PyTorch\n",
    "5. Keras"
   ]
  },
  {
   "cell_type": "markdown",
   "id": "496732a4-b3d1-4e77-8c80-0a30f1d504f0",
   "metadata": {},
   "source": [
    "### Below are a few examples of evaluating arithmetic expressions in Python"
   ]
  },
  {
   "cell_type": "code",
   "execution_count": 8,
   "id": "39a41b38-abc8-4558-b986-318d67ba712e",
   "metadata": {
    "tags": []
   },
   "outputs": [
    {
     "data": {
      "text/plain": [
       "17"
      ]
     },
     "execution_count": 8,
     "metadata": {},
     "output_type": "execute_result"
    }
   ],
   "source": [
    "# This a simple arithmetic expression to mutiply then add integers\n",
    "\n",
    "(3*4)+5"
   ]
  },
  {
   "cell_type": "code",
   "execution_count": 9,
   "id": "9b273fa6-4654-4c2f-8df1-8b9fc8b60144",
   "metadata": {
    "tags": []
   },
   "outputs": [
    {
     "name": "stdout",
     "output_type": "stream",
     "text": [
      "3.3333333333333335\n"
     ]
    }
   ],
   "source": [
    "# This will convert 200 minutes to hours by diving by 60\n",
    "\n",
    "no_of_minutes = 200\n",
    "to_hours = no_of_minutes/60\n",
    "\n",
    "print(to_hours)"
   ]
  },
  {
   "cell_type": "markdown",
   "id": "462e562d-4d61-479e-afd1-55725c584359",
   "metadata": {
    "tags": []
   },
   "source": [
    "__Objectives:__\n",
    "* List popular languages for Data Science\n",
    "* Commonly used libraries used by Data Scientists\n",
    "* Data Science Tools and Ecosystem\n",
    "* Mathematical Computation"
   ]
  },
  {
   "cell_type": "markdown",
   "id": "64a41d9e-2fbc-4b6e-891e-d6da54169ec4",
   "metadata": {
    "tags": []
   },
   "source": [
    "## Author\n",
    "Mohamed Aslam PK"
   ]
  },
  {
   "cell_type": "code",
   "execution_count": null,
   "id": "6557ac86-5d34-4893-85a2-5ebb3995d6bc",
   "metadata": {},
   "outputs": [],
   "source": []
  }
 ],
 "metadata": {
  "kernelspec": {
   "display_name": "Python",
   "language": "python",
   "name": "conda-env-python-py"
  },
  "language_info": {
   "codemirror_mode": {
    "name": "ipython",
    "version": 3
   },
   "file_extension": ".py",
   "mimetype": "text/x-python",
   "name": "python",
   "nbconvert_exporter": "python",
   "pygments_lexer": "ipython3",
   "version": "3.7.12"
  }
 },
 "nbformat": 4,
 "nbformat_minor": 5
}
